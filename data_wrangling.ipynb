{
 "cells": [
  {
   "cell_type": "markdown",
   "metadata": {},
   "source": [
    "There are two datasets, containing company information. The first dataset has standardized publically available information obtained via web scrapping, the second dataset contains confidential internal company information. Thus, we have extracted only fields related to address from it. The task at hand is to match the data items between the two datasets as best as possible. "
   ]
  },
  {
   "cell_type": "code",
   "execution_count": 1,
   "metadata": {
    "collapsed": false
   },
   "outputs": [
    {
     "name": "stdout",
     "output_type": "stream",
     "text": [
      "Company.Name    False\n",
      "Address          True\n",
      "City             True\n",
      "Postcode         True\n",
      "dtype: bool\n",
      "Address        False\n",
      "Postal.Code     True\n",
      "Location        True\n",
      "dtype: bool\n"
     ]
    }
   ],
   "source": [
    "import pandas as pd\n",
    "\n",
    "# Read DataFrames\n",
    "data2 = pd.read_csv('data2.csv')\n",
    "data1 = pd.read_csv('data1.csv')\n",
    "\n",
    "#Check for empty cells\n",
    "print(data1.isnull().any())\n",
    "print(data2.isnull().any())"
   ]
  },
  {
   "cell_type": "code",
   "execution_count": 2,
   "metadata": {
    "collapsed": false
   },
   "outputs": [
    {
     "data": {
      "text/html": [
       "<div>\n",
       "<style>\n",
       "    .dataframe thead tr:only-child th {\n",
       "        text-align: right;\n",
       "    }\n",
       "\n",
       "    .dataframe thead th {\n",
       "        text-align: left;\n",
       "    }\n",
       "\n",
       "    .dataframe tbody tr th {\n",
       "        vertical-align: top;\n",
       "    }\n",
       "</style>\n",
       "<table border=\"1\" class=\"dataframe\">\n",
       "  <thead>\n",
       "    <tr style=\"text-align: right;\">\n",
       "      <th></th>\n",
       "      <th>Company.Name</th>\n",
       "      <th>Address</th>\n",
       "      <th>City</th>\n",
       "      <th>Postcode</th>\n",
       "    </tr>\n",
       "  </thead>\n",
       "  <tbody>\n",
       "    <tr>\n",
       "      <th>0</th>\n",
       "      <td>Carsten Helm</td>\n",
       "      <td>Ulmenstr. 8</td>\n",
       "      <td>Wismar</td>\n",
       "      <td>23966</td>\n",
       "    </tr>\n",
       "    <tr>\n",
       "      <th>1</th>\n",
       "      <td>Zirpel &amp; Pautzsch Ingenieur Pa</td>\n",
       "      <td>Paditzer Str. 33</td>\n",
       "      <td>Altenburg</td>\n",
       "      <td>4600</td>\n",
       "    </tr>\n",
       "    <tr>\n",
       "      <th>2</th>\n",
       "      <td>Eberhard Zessin</td>\n",
       "      <td>Steingartenweg 12</td>\n",
       "      <td>Heidelberg</td>\n",
       "      <td>69118</td>\n",
       "    </tr>\n",
       "    <tr>\n",
       "      <th>3</th>\n",
       "      <td>Gerold Fuchs</td>\n",
       "      <td>Mühlweg 12</td>\n",
       "      <td>Dietingen</td>\n",
       "      <td>78661</td>\n",
       "    </tr>\n",
       "    <tr>\n",
       "      <th>4</th>\n",
       "      <td>Rudi Biedritzky</td>\n",
       "      <td>Zaisentalstr. 70/1</td>\n",
       "      <td>Reutlingen</td>\n",
       "      <td>72760</td>\n",
       "    </tr>\n",
       "  </tbody>\n",
       "</table>\n",
       "</div>"
      ],
      "text/plain": [
       "                     Company.Name             Address        City Postcode\n",
       "0                    Carsten Helm         Ulmenstr. 8      Wismar    23966\n",
       "1  Zirpel & Pautzsch Ingenieur Pa    Paditzer Str. 33   Altenburg     4600\n",
       "2                 Eberhard Zessin   Steingartenweg 12  Heidelberg    69118\n",
       "3                    Gerold Fuchs          Mühlweg 12   Dietingen    78661\n",
       "4                 Rudi Biedritzky  Zaisentalstr. 70/1  Reutlingen    72760"
      ]
     },
     "execution_count": 2,
     "metadata": {},
     "output_type": "execute_result"
    }
   ],
   "source": [
    "#Show DataFrames\n",
    "data1.head()"
   ]
  },
  {
   "cell_type": "code",
   "execution_count": 3,
   "metadata": {
    "collapsed": false
   },
   "outputs": [
    {
     "data": {
      "text/html": [
       "<div>\n",
       "<style>\n",
       "    .dataframe thead tr:only-child th {\n",
       "        text-align: right;\n",
       "    }\n",
       "\n",
       "    .dataframe thead th {\n",
       "        text-align: left;\n",
       "    }\n",
       "\n",
       "    .dataframe tbody tr th {\n",
       "        vertical-align: top;\n",
       "    }\n",
       "</style>\n",
       "<table border=\"1\" class=\"dataframe\">\n",
       "  <thead>\n",
       "    <tr style=\"text-align: right;\">\n",
       "      <th></th>\n",
       "      <th>Address</th>\n",
       "      <th>Postal.Code</th>\n",
       "      <th>Location</th>\n",
       "    </tr>\n",
       "  </thead>\n",
       "  <tbody>\n",
       "    <tr>\n",
       "      <th>0</th>\n",
       "      <td>Alfons-Müller-Platz</td>\n",
       "      <td>50389</td>\n",
       "      <td>Wesseling</td>\n",
       "    </tr>\n",
       "    <tr>\n",
       "      <th>1</th>\n",
       "      <td>Hauptstr. 10B</td>\n",
       "      <td>66459</td>\n",
       "      <td>Kirkel</td>\n",
       "    </tr>\n",
       "    <tr>\n",
       "      <th>2</th>\n",
       "      <td>Edisonstr. 36</td>\n",
       "      <td>04435</td>\n",
       "      <td>Schkeuditz</td>\n",
       "    </tr>\n",
       "    <tr>\n",
       "      <th>3</th>\n",
       "      <td>Kutterstr. 3 / 26386 Wilhelmshaven-Rüstersiel</td>\n",
       "      <td>26386</td>\n",
       "      <td>Wilhelmshaven</td>\n",
       "    </tr>\n",
       "    <tr>\n",
       "      <th>4</th>\n",
       "      <td>Am neuen Markt 8</td>\n",
       "      <td>66877</td>\n",
       "      <td>Ramstein-Miesenbach</td>\n",
       "    </tr>\n",
       "  </tbody>\n",
       "</table>\n",
       "</div>"
      ],
      "text/plain": [
       "                                         Address Postal.Code  \\\n",
       "0                           Alfons-Müller-Platz        50389   \n",
       "1                                  Hauptstr. 10B       66459   \n",
       "2                                  Edisonstr. 36       04435   \n",
       "3  Kutterstr. 3 / 26386 Wilhelmshaven-Rüstersiel       26386   \n",
       "4                               Am neuen Markt 8       66877   \n",
       "\n",
       "              Location  \n",
       "0            Wesseling  \n",
       "1               Kirkel  \n",
       "2           Schkeuditz  \n",
       "3        Wilhelmshaven  \n",
       "4  Ramstein-Miesenbach  "
      ]
     },
     "execution_count": 3,
     "metadata": {},
     "output_type": "execute_result"
    }
   ],
   "source": [
    "data2.head()"
   ]
  },
  {
   "cell_type": "code",
   "execution_count": 4,
   "metadata": {
    "collapsed": false
   },
   "outputs": [],
   "source": [
    "#Prepearing Data\n",
    "def filter_data(data):\n",
    "    \n",
    "    #Replace \"Str\", 'Straße'\n",
    "    strasse = ['str', 'straße']\n",
    "    data['Address'] = data['Address'].astype('str')\n",
    "    for k in data.index:\n",
    "        \n",
    "        s = data.ix[k, 'Address'].split()\n",
    "        s = [x.replace('.','') for x in s]\n",
    "        s  = [word for word in s if word.lower() not in strasse]\n",
    "        s = ' '.join(s)\n",
    "        data.ix[k, 'Address'] = s\n",
    "    \n",
    "    #Drop rows with empty cells \n",
    "    data.dropna(axis = 0, how = 'any', inplace = True)\n",
    " \n",
    "    #Converts string to its upper case format (for similar case format)\n",
    "    for col in data.columns:\n",
    "        data[col] = data[col].str.upper()\n",
    "    return data"
   ]
  },
  {
   "cell_type": "code",
   "execution_count": 5,
   "metadata": {
    "collapsed": false
   },
   "outputs": [
    {
     "name": "stderr",
     "output_type": "stream",
     "text": [
      "C:\\Users\\SS\\Anaconda\\lib\\site-packages\\ipykernel\\__main__.py:9: DeprecationWarning: \n",
      ".ix is deprecated. Please use\n",
      ".loc for label based indexing or\n",
      ".iloc for positional indexing\n",
      "\n",
      "See the documentation here:\n",
      "http://pandas.pydata.org/pandas-docs/stable/indexing.html#deprecate_ix\n"
     ]
    }
   ],
   "source": [
    "data1 = filter_data(data1)\n",
    "data2 = filter_data(data2)"
   ]
  },
  {
   "cell_type": "code",
   "execution_count": 6,
   "metadata": {
    "collapsed": false
   },
   "outputs": [
    {
     "data": {
      "text/html": [
       "<div>\n",
       "<style>\n",
       "    .dataframe thead tr:only-child th {\n",
       "        text-align: right;\n",
       "    }\n",
       "\n",
       "    .dataframe thead th {\n",
       "        text-align: left;\n",
       "    }\n",
       "\n",
       "    .dataframe tbody tr th {\n",
       "        vertical-align: top;\n",
       "    }\n",
       "</style>\n",
       "<table border=\"1\" class=\"dataframe\">\n",
       "  <thead>\n",
       "    <tr style=\"text-align: right;\">\n",
       "      <th></th>\n",
       "      <th>Company.Name</th>\n",
       "      <th>Address</th>\n",
       "      <th>City</th>\n",
       "      <th>Postcode</th>\n",
       "    </tr>\n",
       "  </thead>\n",
       "  <tbody>\n",
       "    <tr>\n",
       "      <th>0</th>\n",
       "      <td>CARSTEN HELM</td>\n",
       "      <td>ULMENSTR 8</td>\n",
       "      <td>WISMAR</td>\n",
       "      <td>23966</td>\n",
       "    </tr>\n",
       "    <tr>\n",
       "      <th>1</th>\n",
       "      <td>ZIRPEL &amp; PAUTZSCH INGENIEUR PA</td>\n",
       "      <td>PADITZER 33</td>\n",
       "      <td>ALTENBURG</td>\n",
       "      <td>4600</td>\n",
       "    </tr>\n",
       "    <tr>\n",
       "      <th>2</th>\n",
       "      <td>EBERHARD ZESSIN</td>\n",
       "      <td>STEINGARTENWEG 12</td>\n",
       "      <td>HEIDELBERG</td>\n",
       "      <td>69118</td>\n",
       "    </tr>\n",
       "    <tr>\n",
       "      <th>3</th>\n",
       "      <td>GEROLD FUCHS</td>\n",
       "      <td>MÜHLWEG 12</td>\n",
       "      <td>DIETINGEN</td>\n",
       "      <td>78661</td>\n",
       "    </tr>\n",
       "    <tr>\n",
       "      <th>4</th>\n",
       "      <td>RUDI BIEDRITZKY</td>\n",
       "      <td>ZAISENTALSTR 70/1</td>\n",
       "      <td>REUTLINGEN</td>\n",
       "      <td>72760</td>\n",
       "    </tr>\n",
       "  </tbody>\n",
       "</table>\n",
       "</div>"
      ],
      "text/plain": [
       "                     Company.Name            Address        City Postcode\n",
       "0                    CARSTEN HELM         ULMENSTR 8      WISMAR    23966\n",
       "1  ZIRPEL & PAUTZSCH INGENIEUR PA        PADITZER 33   ALTENBURG     4600\n",
       "2                 EBERHARD ZESSIN  STEINGARTENWEG 12  HEIDELBERG    69118\n",
       "3                    GEROLD FUCHS         MÜHLWEG 12   DIETINGEN    78661\n",
       "4                 RUDI BIEDRITZKY  ZAISENTALSTR 70/1  REUTLINGEN    72760"
      ]
     },
     "execution_count": 6,
     "metadata": {},
     "output_type": "execute_result"
    }
   ],
   "source": [
    "data1.head()"
   ]
  },
  {
   "cell_type": "code",
   "execution_count": 7,
   "metadata": {
    "collapsed": false
   },
   "outputs": [
    {
     "data": {
      "text/html": [
       "<div>\n",
       "<style>\n",
       "    .dataframe thead tr:only-child th {\n",
       "        text-align: right;\n",
       "    }\n",
       "\n",
       "    .dataframe thead th {\n",
       "        text-align: left;\n",
       "    }\n",
       "\n",
       "    .dataframe tbody tr th {\n",
       "        vertical-align: top;\n",
       "    }\n",
       "</style>\n",
       "<table border=\"1\" class=\"dataframe\">\n",
       "  <thead>\n",
       "    <tr style=\"text-align: right;\">\n",
       "      <th></th>\n",
       "      <th>Address</th>\n",
       "      <th>Postal.Code</th>\n",
       "      <th>Location</th>\n",
       "    </tr>\n",
       "  </thead>\n",
       "  <tbody>\n",
       "    <tr>\n",
       "      <th>0</th>\n",
       "      <td>ALFONS-MÜLLER-PLATZ</td>\n",
       "      <td>50389</td>\n",
       "      <td>WESSELING</td>\n",
       "    </tr>\n",
       "    <tr>\n",
       "      <th>1</th>\n",
       "      <td>HAUPTSTR 10B</td>\n",
       "      <td>66459</td>\n",
       "      <td>KIRKEL</td>\n",
       "    </tr>\n",
       "    <tr>\n",
       "      <th>2</th>\n",
       "      <td>EDISONSTR 36</td>\n",
       "      <td>04435</td>\n",
       "      <td>SCHKEUDITZ</td>\n",
       "    </tr>\n",
       "    <tr>\n",
       "      <th>3</th>\n",
       "      <td>KUTTERSTR 3 / 26386 WILHELMSHAVEN-RÜSTERSIEL</td>\n",
       "      <td>26386</td>\n",
       "      <td>WILHELMSHAVEN</td>\n",
       "    </tr>\n",
       "    <tr>\n",
       "      <th>4</th>\n",
       "      <td>AM NEUEN MARKT 8</td>\n",
       "      <td>66877</td>\n",
       "      <td>RAMSTEIN-MIESENBACH</td>\n",
       "    </tr>\n",
       "  </tbody>\n",
       "</table>\n",
       "</div>"
      ],
      "text/plain": [
       "                                        Address Postal.Code  \\\n",
       "0                           ALFONS-MÜLLER-PLATZ       50389   \n",
       "1                                  HAUPTSTR 10B       66459   \n",
       "2                                  EDISONSTR 36       04435   \n",
       "3  KUTTERSTR 3 / 26386 WILHELMSHAVEN-RÜSTERSIEL       26386   \n",
       "4                              AM NEUEN MARKT 8       66877   \n",
       "\n",
       "              Location  \n",
       "0            WESSELING  \n",
       "1               KIRKEL  \n",
       "2           SCHKEUDITZ  \n",
       "3        WILHELMSHAVEN  \n",
       "4  RAMSTEIN-MIESENBACH  "
      ]
     },
     "execution_count": 7,
     "metadata": {},
     "output_type": "execute_result"
    }
   ],
   "source": [
    "data2.head()"
   ]
  },
  {
   "cell_type": "code",
   "execution_count": 8,
   "metadata": {
    "collapsed": false
   },
   "outputs": [
    {
     "name": "stdout",
     "output_type": "stream",
     "text": [
      "Numbers of strings in 2nd and 1st Dataframes:  11 4114\n",
      "Addresses:  (['MELDORFER', '101'], ['MELDORFER', '101'])\n",
      "Postcodes:  25746 25746\n",
      "Locations:  HEIDE HEIDE\n",
      "Company name:  NORDDEUTSCHE ELEKTROGROSSHANDEL\n",
      "---------------\n",
      "Numbers of strings in 2nd and 1st Dataframes:  19 2690\n",
      "Addresses:  (['THEODOR-HEUSS-ALLEE', '20'], ['THEODOR-HEUSS-ALLEE', '21'])\n",
      "Postcodes:  28215 28215\n",
      "Locations:  BREMEN BREMEN\n",
      "Company name:  GASSE-SCHUMACHER-SCHRAMM LANDS\n",
      "---------------\n",
      "Numbers of strings in 2nd and 1st Dataframes:  34 1766\n",
      "Addresses:  (['WEIERSTR', '54'], ['WEIERSTR', '54'])\n",
      "Postcodes:  53894 53894\n",
      "Locations:  MECHERNICH MECHERNICH\n",
      "Company name:  ELEKTRO-BRAUN MECHERNICH GMBH\n",
      "---------------\n",
      "Numbers of strings in 2nd and 1st Dataframes:  92 5396\n",
      "Addresses:  (['SCHLOSSSTR', '13'], ['SCHLOSSSTR', '13'])\n",
      "Postcodes:  04425 4425\n",
      "Locations:  TAUCHA TAUCHA\n",
      "Company name:  STADT TAUCHA\n",
      "---------------\n",
      "Numbers of strings in 2nd and 1st Dataframes:  107 2433\n",
      "Addresses:  (['ALLEE', 'DER', 'KOSMONAUTEN', '28'], ['ALLEE', 'DER', 'KOSMONAUTEN', '28'])\n",
      "Postcodes:  12681 12681\n",
      "Locations:  BERLIN BERLIN\n",
      "Company name:  DR. JAN FORKERT\n",
      "---------------\n",
      "Numbers of strings in 2nd and 1st Dataframes:  180 428\n",
      "Addresses:  (['BRAMFELDER', 'CHAUSSEE', '130'], ['BRAMFELDER', 'CHAUSSEE', '305'])\n",
      "Postcodes:  22177 22177\n",
      "Locations:  HAMBURG HAMBURG\n",
      "Company name:  ELEKTRO - HORSTMANN WERNER HOR\n",
      "---------------\n",
      "Numbers of strings in 2nd and 1st Dataframes:  212 2885\n",
      "Addresses:  (['FRANKFURTER', '24'], ['FRANKFURTER', '45'])\n",
      "Postcodes:  64521 64521\n",
      "Locations:  GROSS-GERAU GROSS-GERAU\n",
      "Company name:  ELEKTRO HORST GMBH\n",
      "---------------\n"
     ]
    }
   ],
   "source": [
    "#To determine the similarity of strings, we use the Levenshtein distance. Esspecialy Levenshtein.ratio = [0,1]\n",
    "\n",
    "import Levenshtein\n",
    "import statistics as st\n",
    "\n",
    "ind = []\n",
    "for k in data2.index:\n",
    "    for j in data1.index:\n",
    "        \n",
    "        #Firstly compare Postcodes and Cities(Locations) from two DataFrames. \n",
    "        #Use Levenshtein.ratio = 0.7. Permissible for human's mistakes  \n",
    "        \n",
    "        if (Levenshtein.ratio(data2.ix[k, 'Postal.Code'], data1.ix[j, 'Postcode']) > 0.7) & \\\n",
    "        (Levenshtein.ratio(data2.ix[k, 'Location'], data1.ix[j, 'City']) > 0.7):\n",
    "                \n",
    "                #Then analyse addresses\n",
    "                l = []\n",
    "                \n",
    "                #Divide into separate words for both DataFrames\n",
    "                sentences = data2.ix[k, 'Address'].split(), data1.ix[j, 'Address'].split()\n",
    "                \n",
    "                \"\"\"We exclude addresses where only one value (for example street or house number) \n",
    "                because such values are not suitable for comparison\"\"\"\n",
    "                if (len(sentences[0]) <= 1) or (len(sentences[1]) <= 1):\n",
    "                    continue\n",
    "                \n",
    "                for w1,w2 in zip(sentences[0],sentences[1]):\n",
    "                    #Calculate mean Levenshtein ratio and choose items with ratio > 0.7\n",
    "                    s = Levenshtein.ratio(w1,w2)\n",
    "                    l.append(Levenshtein.ratio(w1,w2))\n",
    "                    h = st.mean(l)\n",
    "                if h > 0.7:\n",
    "                    \n",
    "                    #Thus we obtain relations between two Datasets \n",
    "                    print('Numbers of strings in 2nd and 1st Dataframes: ', k, j)\n",
    "                    ind.append([j, k])\n",
    "                    print('Addresses: ', sentences)\n",
    "                    print('Postcodes: ', data2.ix[k, 'Postal.Code'], data1.ix[j, 'Postcode'])\n",
    "                    print('Locations: ', data2.ix[k, 'Location'], data1.ix[j, 'City'])\n",
    "                    print('Company name: ', data1.ix[j, 'Company.Name'])\n",
    "                    print('---------------')"
   ]
  },
  {
   "cell_type": "markdown",
   "metadata": {},
   "source": [
    "## SUMMURY:"
   ]
  },
  {
   "cell_type": "markdown",
   "metadata": {},
   "source": [
    "- We have relations from two tables.\n",
    "- 6 of them are strong.\n",
    "- In one (second) there is a mismatching of the house number (# 20 instead of # 21). It can be a human mistake, and maybe different addresses. To avoid this, we can put a more strong condition for the Levenshtein coefficient under address analyzing (for example > 0.8, 0.9). I left it as is to show the different assumption can be made.\n",
    "- Also there are objects with similar addresses but in different cities"
   ]
  },
  {
   "cell_type": "markdown",
   "metadata": {},
   "source": [
    "Plus:\n",
    "- To solve this problem, we can use the geocoder. From the addresses we can get the coordinates and then compare them in the specified range (delta)."
   ]
  },
  {
   "cell_type": "code",
   "execution_count": null,
   "metadata": {
    "collapsed": true
   },
   "outputs": [],
   "source": []
  }
 ],
 "metadata": {
  "kernelspec": {
   "display_name": "Python 3",
   "language": "python",
   "name": "python3"
  },
  "language_info": {
   "codemirror_mode": {
    "name": "ipython",
    "version": 3
   },
   "file_extension": ".py",
   "mimetype": "text/x-python",
   "name": "python",
   "nbconvert_exporter": "python",
   "pygments_lexer": "ipython3",
   "version": "3.5.1"
  }
 },
 "nbformat": 4,
 "nbformat_minor": 0
}
